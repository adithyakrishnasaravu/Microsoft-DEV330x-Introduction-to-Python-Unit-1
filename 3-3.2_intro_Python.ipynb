{
  "cells": [
    {
      "metadata": {},
      "cell_type": "markdown",
      "source": "# Section 3.2: Files\n* os.remove, os.unlink\n* os.path.exists, os.path.isdir, os.path.isfile\n* `with`\n\n### Students will be able to:\n* Delete files\n* Check that a file exists\n* Check if a path is a file or directory\n* Handle file exceptions\n* Use `with` statement close an open file after catching an exception"
    },
    {
      "metadata": {
        "trusted": true
      },
      "cell_type": "code",
      "source": "",
      "execution_count": null,
      "outputs": []
    },
    {
      "metadata": {},
      "cell_type": "markdown",
      "source": "# ---\n<font size=\"6\" color=\"#00A0B2\"  face=\"verdana\"> <B>Concepts</B></font>  \n\n## Deleting Files\n\n[![view video](https://iajupyterprodblobs.blob.core.windows.net/imagecontainer/common/play_video.png)](https://www.youtube.com/watch?v=qSYMdOq_96g)\n\nIn module 1 you explored the `os` module and used some of its methods to interact with the file system. You changed the working directory, listed the content of a path, created new directories, removed directories, and renamed files and directories. In addition to these utilities, Python's `os` module allows you to remove specific files using the `os.remove(path)` or `os.unlink(path)` functions. Both functions are semantically identical; however, their functionality slightly differs depending on the platform running your program. For now, we will consider them equivalent and use `os.remove(path)` to delete a file."
    },
    {
      "metadata": {},
      "cell_type": "markdown",
      "source": "---\n<font size=\"6\" color=\"#00A0B2\"  face=\"verdana\"> <B>Examples</B></font>\n\n### Removing a file"
    },
    {
      "metadata": {
        "trusted": true
      },
      "cell_type": "code",
      "source": "import os\n\n# Create a file to be deleted\nfile_path = \"parent_dir/tmp_file_to_be_deleted.txt\"\nf = open(file_path, 'w')\nf.close()\n\n# list the content of parent_dir\nprint('Content of \"parent_dir\" after creating the file:')\nprint(os.listdir(\"parent_dir\"))\nprint()\n\n# delete the file\nos.remove(file_path)\n\n# list the content of parent_dir\nprint('Content of \"parent_dir\" after removing the file')\nprint(os.listdir(\"parent_dir\"))\n",
      "execution_count": null,
      "outputs": []
    },
    {
      "metadata": {},
      "cell_type": "markdown",
      "source": "---\n<font size=\"6\" color=\"#B24C00\"  face=\"verdana\"> <B>Task 1</B></font>"
    },
    {
      "metadata": {},
      "cell_type": "markdown",
      "source": "## Setting Up the Environment (no coding required)\nThis code segment creates a directory named `files_exercises` that contains five subdirectories named `dir_1`, `dir_2`, ...`dir_5` and 100 text files named sequentially from 0 to 99. The first line of each text file is a random number from 1000 to 9999."
    },
    {
      "metadata": {
        "trusted": true
      },
      "cell_type": "code",
      "source": "# Do not modify or add anything to this code segment.\n# This code segment must be run before attempting any of the tasks in this lesson.\n# It prepares the directories and files necessary to complete the tasks.\n\nimport os, random, shutil\n\n# Navigate to `parent_dir` directory (if not already in it)\ncurrent_path = os.getcwd()\nif (\"parent_dir\" in current_path):\n    nb_path = current_path.split(\"parent_dir\")[0]\nelse:\n    nb_path = current_path\nprint(\"Changing working dir to parent_dir\")\nos.chdir(os.path.join(nb_path,'parent_dir'))\nprint(\"Current working directory:\", os.getcwd())\n\n# Remove the `files_exercises` directory (if it exists)\nif('files_exercises' in os.listdir()):\n    print('Removing \"files_exercises\"')\n    shutil.rmtree('files_exercises')\n    \n# Create a new directory called `files_exercises`\nprint('Making \"files_exercises\"')\nos.mkdir('files_exercises')\n\n# Change the working directory to `files_exercises`\nprint('Changing working directory to \"files_exercises\"')\nos.chdir('files_exercises')\n\n# Display the current working directory to verify you are in the correct location\nprint(\"Current working directory:\", os.getcwd())\n\n# Create 100 text files, the first line of each file is a random number in the range [1000, 9999]\nprint(\"Creating 100 text files\")\nrandom.seed(25000) # to get the same random numbers every time the setup runs\nfor i in range(100):\n    file_name = str(i) + \".txt\"\n    f = open(file_name, 'w')\n    f.write(str(random.randint(1000, 9999)))\n    f.close()\n\n# Create 5 directories\nprint(\"Creating 5 directories\")\nfor i in range(1, 6):\n    os.mkdir(\"dir_\"+str(i))\n\nprint(\"Environment setup completed!\")",
      "execution_count": 98,
      "outputs": [
        {
          "output_type": "stream",
          "text": "Changing working dir to parent_dir\nCurrent working directory: /home/nbuser/library/parent_dir\nRemoving \"files_exercises\"\nMaking \"files_exercises\"\nChanging working directory to \"files_exercises\"\nCurrent working directory: /home/nbuser/library/parent_dir/files_exercises\nCreating 100 text files\nCreating 5 directories\nEnvironment setup completed!\n",
          "name": "stdout"
        }
      ]
    },
    {
      "metadata": {},
      "cell_type": "markdown",
      "source": "## Deleting Files"
    },
    {
      "metadata": {
        "trusted": true
      },
      "cell_type": "code",
      "source": "# [ ] Complete the following program to delete the first 10 files inside `files_exercises` (0.txt, 1.txt ... 9.txt)\n# Make sure the to run the environment setup code before running your own program.\n\nimport os\n\nif ('files_exercises' not in os.getcwd()):\n    print(\"STOP!!!! Run the environment setup code!\")\n\n# list the content of `files_exercises`\nprint('Content of \"files_exercises\" before removing the files')\nprint(os.listdir()) \n\n#TODO: delete the first 10 files\nfor i in range(10):\n    s=str(i)+'.txt'\n    os.remove(s)\n# list the content of `files_exercises`\nprint('Content of \"files_exercises\" after removing the files')\nprint(os.listdir())  \n\n\n",
      "execution_count": null,
      "outputs": []
    },
    {
      "metadata": {},
      "cell_type": "markdown",
      "source": "---\n<font size=\"6\" color=\"#00A0B2\"  face=\"verdana\"> <B>Concepts</B></font>  \n\n\n## Checking File Existence\n\n\n[![view video](https://iajupyterprodblobs.blob.core.windows.net/imagecontainer/common/play_video.png)](https://www.youtube.com/watch?v=PbXCwHKlgCk)\n\nIn the previous section, you deleted a file assuming that it exists and assuming it is actually a file. In reality, these assumptions are not always true and you should consider them when writing programs that deal with files.\n\n#### Removing a file that doesn't exist\nRaises a `FileNotFoundError` exception. \n\n```python\n# Removing a file that does not exist\nfile_path = \"parent_dir/fictitious_file.txt\"\nos.remove(file_path)\n\n-------------------------------------------------------------------------\nFileNotFoundError                       Traceback (most recent call last)\n<ipython-input-8-9e62af9a8388> in <module>()\n      1 # Removing a file that does not exist\n      2 file_path = \"parent_dir/fictitious_file.txt\"\n----> 3 os.remove(file_path)\n\nFileNotFoundError: [Errno 2] No such file or directory: 'parent_dir/fictitious_file.txt'\n```\n\n#### Removing a directory using `os.remove`\nWhen a directory is passed as an argument for `os.remove` a `PermissionError` is raised.\n\n```python\n# Passing a directory path to os.remove\ndir_path = \"parent_dir\"\nos.remove(dir_path)\n\n-------------------------------------------------------------------------\nPermissionError                         Traceback (most recent call last)\n<ipython-input-9-698c1518adf7> in <module>()\n      1 # Passing a directory path to os.remove\n      2 dir_path = \"parent_dir\"\n----> 3 os.remove(dir_path)\n\nPermissionError: [Errno 1] Operation not permitted: 'parent_dir'\n```\n\n### Simple solution\nIn module 1 you were able to check if a path exists using `os.path.exists(path)`; in addition, you were able to figure out if a `path` is a file or directory using `os.path.isfile` and `os.path.isdir` respectively. You can use these functions to test a path and avoid the exceptions above."
    },
    {
      "metadata": {},
      "cell_type": "markdown",
      "source": "---\n<font size=\"6\" color=\"#00A0B2\"  face=\"verdana\"> <B>Examples</B></font>\n"
    },
    {
      "metadata": {
        "trusted": true
      },
      "cell_type": "code",
      "source": "import os.path\n\nfile_path = \"parent_dir/fictitious_file.txt\"\n\n# Removing a file\n\n# Check if the path exists\nif (os.path.exists(file_path)):\n    if (os.path.isfile(file_path)):\n        os.remove(file_path)\n    else:\n        print(\"Cannot remove a directory\")\nelse:\n    print(\"path does not exist\")",
      "execution_count": null,
      "outputs": []
    },
    {
      "metadata": {
        "trusted": true
      },
      "cell_type": "code",
      "source": "import os.path\n\nfile_path = \"parent_dir\"\n\n# Removing a file\n\n# Check if the path exists\nif (os.path.exists(file_path)):\n    if (os.path.isfile(file_path)):\n        os.remove(file_path)\n    else:\n        print(\"Cannot remove a directory\")\nelse:\n    print(\"path does not exist\")",
      "execution_count": null,
      "outputs": []
    },
    {
      "metadata": {},
      "cell_type": "markdown",
      "source": "---\n<font size=\"6\" color=\"#B24C00\"  face=\"verdana\"> <B>Task 2</B></font>\n\n## Checking File Existence\n"
    },
    {
      "metadata": {
        "trusted": true
      },
      "cell_type": "code",
      "source": "# [ ] Write a program to delete all the even numbered files inside `files_exercises`\n# Make sure the to run the environment setup code before running your own program.\n\nimport os\n\nif ('files_exercises' not in os.getcwd()):\n    print(\"STOP!!!! Run the environment setup code!\")\nprint(os.listdir())\n\n#TODO: Your code goes here\nfor i in range(2,100,2):\n    s=str(i)+'.txt'\n    try:\n        os.remove(s)\n    except FileNotFoundError:\n        pass\nprint()\nprint(os.listdir())",
      "execution_count": 48,
      "outputs": [
        {
          "output_type": "stream",
          "text": "['45.txt', '25.txt', '46.txt', '74.txt', '38.txt', '14.txt', '15.txt', '13.txt', '73.txt', '43.txt', '5.txt', 'dir_4', '87.txt', '31.txt', '40.txt', '35.txt', '1.txt', 'dir_5', '65.txt', '55.txt', '26.txt', '67.txt', '98.txt', '76.txt', '77.txt', '75.txt', '9.txt', '53.txt', '44.txt', '81.txt', '18.txt', '56.txt', '79.txt', '42.txt', '71.txt', '33.txt', '86.txt', '0.txt', '89.txt', '39.txt', '63.txt', '29.txt', '12.txt', '69.txt', '58.txt', '37.txt', '84.txt', '83.txt', '23.txt', '91.txt', '51.txt', '7.txt', '64.txt', '99.txt', '85.txt', '66.txt', '20.txt', '97.txt', '72.txt', '88.txt', '8.txt', '22.txt', '80.txt', '30.txt', '2.txt', '59.txt', 'dir_1', '93.txt', '36.txt', 'dir_3', '50.txt', '95.txt', '49.txt', '11.txt', '57.txt', '47.txt', '92.txt', '4.txt', '32.txt', '70.txt', '28.txt', '27.txt', '82.txt', '6.txt', '78.txt', '68.txt', '34.txt', '24.txt', '3.txt', '96.txt', '60.txt', '90.txt', '41.txt', '16.txt', '54.txt', '52.txt', 'dir_2', '94.txt', '19.txt', '21.txt', '17.txt', '48.txt', '62.txt', '10.txt', '61.txt']\n\n['45.txt', '25.txt', '15.txt', '13.txt', '73.txt', '43.txt', '5.txt', 'dir_4', '87.txt', '31.txt', '35.txt', '1.txt', 'dir_5', '65.txt', '55.txt', '67.txt', '77.txt', '75.txt', '9.txt', '53.txt', '81.txt', '79.txt', '71.txt', '33.txt', '0.txt', '89.txt', '39.txt', '63.txt', '29.txt', '69.txt', '37.txt', '83.txt', '23.txt', '91.txt', '51.txt', '7.txt', '99.txt', '85.txt', '97.txt', '59.txt', 'dir_1', '93.txt', 'dir_3', '95.txt', '49.txt', '11.txt', '57.txt', '47.txt', '27.txt', '3.txt', '41.txt', 'dir_2', '19.txt', '21.txt', '17.txt', '61.txt']\n",
          "name": "stdout"
        }
      ]
    },
    {
      "metadata": {
        "trusted": true
      },
      "cell_type": "code",
      "source": "# [ ] Write a program to delete all the directories inside `files_exercises`\n# Make sure the to run the environment setup code before running your own program.\n\nimport os\n\nif ('files_exercises' not in os.getcwd()):\n    print(\"STOP!!!! Run the environment setup code!\")\n\n#TODO: Your code goes here\nprint(os.getcwd())\nfor i in (os.listdir()):\n    try:\n        os.remove(i)\n    except IndentationError:\n        pass\n    except IsADirectoryError:\n        pass\n    except FileNotFoundError:\n        pass\nprint(os.listdir())",
      "execution_count": 56,
      "outputs": [
        {
          "output_type": "stream",
          "text": "/home/nbuser/library/parent_dir/files_exercises\n['dir_4', 'dir_1', 'dir_5', 'dir_3', 'dir_2']\n",
          "name": "stdout"
        }
      ]
    },
    {
      "metadata": {
        "trusted": true
      },
      "cell_type": "code",
      "source": "# [ ] Write a program to ask the user for a file number, \n# then delete the file if it exists or display an appropriate error message if it does not.\n# Make sure the to run the environment setup code before running your own program.\n\n# Test your program with the following:\n# case 1: user inputs 84, 84.txt should be deleted\n# case 2: user inputs 84 (again), a File does not exist message is printed\n# case 3: user inputs 5, 5.txt should be deleted\nimport os,os.path\n\nif ('files_exercises' not in os.getcwd()):\n    print(\"STOP!!!! Run the environment setup code!\")\n\n#TODO: Your code goes here\nfile_num=input('Input a file number')\nfile_path='parent_dir/'+file_num+'.txt'\ns=file_num+'.txt'\nos.remove(s)\nprint('Deleted')\nprint(os.listdir())",
      "execution_count": 57,
      "outputs": [
        {
          "output_type": "stream",
          "name": "stdout",
          "text": "Input a file number1\n"
        },
        {
          "output_type": "error",
          "ename": "FileNotFoundError",
          "evalue": "[Errno 2] No such file or directory: '1.txt'",
          "traceback": [
            "\u001b[0;31m---------------------------------------------------------------------------\u001b[0m",
            "\u001b[0;31mFileNotFoundError\u001b[0m                         Traceback (most recent call last)",
            "\u001b[0;32m<ipython-input-57-6a7eafe02a26>\u001b[0m in \u001b[0;36m<module>\u001b[0;34m()\u001b[0m\n\u001b[1;32m     16\u001b[0m \u001b[0mfile_path\u001b[0m\u001b[0;34m=\u001b[0m\u001b[0;34m'parent_dir/'\u001b[0m\u001b[0;34m+\u001b[0m\u001b[0mfile_num\u001b[0m\u001b[0;34m+\u001b[0m\u001b[0;34m'.txt'\u001b[0m\u001b[0;34m\u001b[0m\u001b[0m\n\u001b[1;32m     17\u001b[0m \u001b[0ms\u001b[0m\u001b[0;34m=\u001b[0m\u001b[0mfile_num\u001b[0m\u001b[0;34m+\u001b[0m\u001b[0;34m'.txt'\u001b[0m\u001b[0;34m\u001b[0m\u001b[0m\n\u001b[0;32m---> 18\u001b[0;31m \u001b[0mos\u001b[0m\u001b[0;34m.\u001b[0m\u001b[0mremove\u001b[0m\u001b[0;34m(\u001b[0m\u001b[0ms\u001b[0m\u001b[0;34m)\u001b[0m\u001b[0;34m\u001b[0m\u001b[0m\n\u001b[0m\u001b[1;32m     19\u001b[0m \u001b[0mprint\u001b[0m\u001b[0;34m(\u001b[0m\u001b[0;34m'Deleted'\u001b[0m\u001b[0;34m)\u001b[0m\u001b[0;34m\u001b[0m\u001b[0m\n\u001b[1;32m     20\u001b[0m \u001b[0mprint\u001b[0m\u001b[0;34m(\u001b[0m\u001b[0mos\u001b[0m\u001b[0;34m.\u001b[0m\u001b[0mlistdir\u001b[0m\u001b[0;34m(\u001b[0m\u001b[0;34m)\u001b[0m\u001b[0;34m)\u001b[0m\u001b[0;34m\u001b[0m\u001b[0m\n",
            "\u001b[0;31mFileNotFoundError\u001b[0m: [Errno 2] No such file or directory: '1.txt'"
          ]
        }
      ]
    },
    {
      "metadata": {},
      "cell_type": "markdown",
      "source": "---\n<font size=\"6\" color=\"#00A0B2\"  face=\"verdana\"> <B>Concepts</B></font>  \n\n## Handling File Exceptions\n\n[![view video](https://iajupyterprodblobs.blob.core.windows.net/imagecontainer/common/play_video.png)](https://www.youtube.com/watch?v=E_e8PbgSqYg)\n\nIn the previous example, you anticipated some errors and tried to avoid them by testing that a path exists and whether it is to a file or directory. However, you still assumed the results of these tests are static and won't change while your program is running. This assumption might lead to errors again. For example, say you test for the existence of a file and determine that the file exists at the given path, and right after that another program moves the file; if your program attempts to remove the file, it will raise a `FileNotFoundError` because the file no longer exists in that location. Of course, this is considered an unhandled exception and your program will stop executing and display the error message as before.\n\nPython's philosophy in this case is to deal with these errors as exceptions and handle them using the techniques you saw in a previous lesson. This way, you can also deal with unexpected exceptions."
    },
    {
      "metadata": {},
      "cell_type": "markdown",
      "source": "---\n<font size=\"6\" color=\"#00A0B2\"  face=\"verdana\"> <B>Examples</B></font>\n\nIn these examples we use exception handling to make sure that a file exists and that it is a file."
    },
    {
      "metadata": {
        "trusted": true
      },
      "cell_type": "code",
      "source": "import os.path\n\nfile_path = \"parent_dir/fictitious_file.txt\"\n\n# Remove a file\n\ntry:\n    os.remove(file_path)\nexcept FileNotFoundError as exception_object:\n    print(\"Cannot find file: \", exception_object)\nexcept PermissionError as exception_object:\n    print(\"Cannot delete a directory: \", exception_object)\nexcept Exception as exception_object:\n    print(\"Unexpected exception: \", exception_object)",
      "execution_count": 58,
      "outputs": [
        {
          "output_type": "stream",
          "text": "Cannot find file:  [Errno 2] No such file or directory: 'parent_dir/fictitious_file.txt'\n",
          "name": "stdout"
        }
      ]
    },
    {
      "metadata": {
        "trusted": true
      },
      "cell_type": "code",
      "source": "import os.path\n\nfile_path = \"parent_dir\"\n\n# Remove a file\n\ntry:\n    os.remove(file_path)\nexcept FileNotFoundError as exception_object:\n    print(\"Cannot find file: \", exception_object)\nexcept PermissionError as exception_object:\n    print(\"Cannot delete a directory: \", exception_object)\nexcept Exception as exception_object:\n    print(\"Unexpected exception: \", exception_object)",
      "execution_count": 59,
      "outputs": [
        {
          "output_type": "stream",
          "text": "Cannot find file:  [Errno 2] No such file or directory: 'parent_dir'\n",
          "name": "stdout"
        }
      ]
    },
    {
      "metadata": {},
      "cell_type": "markdown",
      "source": "---\n<font size=\"6\" color=\"#B24C00\"  face=\"verdana\"> <B>Task 3</B></font>\n\n## Handling File Exceptions\n"
    },
    {
      "metadata": {
        "trusted": true
      },
      "cell_type": "code",
      "source": "# [ ] Write a program to ask the user for a file number, \n# then delete the file if it exists or display an appropriate error message if it does not.\n# Use file exception handling instead of file existence tests.\n# Make sure to run the environment setup code before running your own program.\n\n# Test your program with the following:\n# Case 1: When the user inputs 84, the program should delete the file 84.txt\n# Case 2: When the user inputs 84 (again), the program should print a File Not Found error message\n# Case 3: When the user inputs 5, the program should delete the file 5.txt\n\nimport os\n\nif ('files_exercises' not in os.getcwd()):\n    print(\"STOP!!!! Run the environment setup code!\")\n    \n    \n#TODO: Your code goes here\nfile_num=input(\"Please enter the file number\")\ns=file_num+'.txt'\nfile_path='parent_dir/'+s\n\ntry:\n    os.remove(s)\n    print('Deleted')\n\nexcept FileNotFoundError as exception_object:\n    print(\"Cannot find file: \", exception_object)\nexcept PermissionError as exception_object:\n    print(\"Cannot delete a directory: \", exception_object)\nexcept Exception as exception_object:\n    print(\"Unexpected exception: \", exception_object)\n#print(os.listdir())\n",
      "execution_count": 60,
      "outputs": [
        {
          "output_type": "stream",
          "name": "stdout",
          "text": "Please enter the file number25\nCannot find file:  [Errno 2] No such file or directory: '25.txt'\n"
        }
      ]
    },
    {
      "metadata": {},
      "cell_type": "markdown",
      "source": "---\n<font size=\"6\" color=\"#00A0B2\"  face=\"verdana\"> <B>Concepts</B></font>  \n\n\n## `with` Statements\n\n\n[![view video](https://iajupyterprodblobs.blob.core.windows.net/imagecontainer/common/play_video.png)](https://www.youtube.com/watch?v=r0Cw5dyrr_Y)\n\nAfter interacting with a file in Python, it is very important to close the file to ensure that all output is written properly and the resources are freed. Sometimes an exception is raised before reaching the `close()` statement, and the file is kept open. This issue can be resolved by placing the `close()` statement inside a `finally` clause. However, because the process of opening and closing a file is very common, Python provides a succinct `with` statement that performs the same task. The syntax of the `with` statement is:\n\n```python\nwith open(FILE_NAME, MODE) as VARIABLE:\n    code block\n```\n"
    },
    {
      "metadata": {},
      "cell_type": "markdown",
      "source": "---\n<font size=\"6\" color=\"#00A0B2\"  face=\"verdana\"> <B>Examples</B></font>\n\n### Without a `with` statement\nIn this example, you see that the file is still open after the `except` statement because `file.close()` is never reached."
    },
    {
      "metadata": {},
      "cell_type": "markdown",
      "source": "### Using a `finally` statement\nThe `finally` clause will close the file whether an exception was raised or not."
    },
    {
      "metadata": {
        "trusted": true
      },
      "cell_type": "code",
      "source": "print(os.listdir())",
      "execution_count": 65,
      "outputs": [
        {
          "output_type": "stream",
          "text": "['dir_3', 'dir_1', 'dir_2', 'dir_4', 'dir_5']\n",
          "name": "stdout"
        }
      ]
    },
    {
      "metadata": {
        "trusted": true
      },
      "cell_type": "code",
      "source": "os.chdir('/home/nbuser/library/parent_dir')\nfile_path = '/home/nbuser/library/parent_dir/text_file.txt'\n\ntry:\n    file = open(file_path, 'r')\n    x = int(file.readline()) #raise an exception if lines are not numeric\nexcept Exception as exception_object:\n    print(\"Unexpected exception:\", exception_object)\nfinally:\n    file.close() # will be executed whether an exception was raised or not\n\nprint(\"File is closed?\", file.closed)",
      "execution_count": 73,
      "outputs": [
        {
          "output_type": "stream",
          "text": "Unexpected exception: invalid literal for int() with base 10: 'First line in file!\\n'\nFile is closed? True\n",
          "name": "stdout"
        }
      ]
    },
    {
      "metadata": {
        "trusted": true
      },
      "cell_type": "code",
      "source": "\nfile_path = '/home/nbuser/library/parent_dir/text_file.txt'\nfile = open(file_path, 'r')\ntry:\n    x = int(file.readline()) # Raise an exception if lines are not numeric\n    file.close() # Might never be reached if file.write raised an error\nexcept Exception as exception_object:\n    print(\"Unexpected exception:\", exception_object)\n\nprint(\"File is closed?\", file.closed)",
      "execution_count": 74,
      "outputs": [
        {
          "output_type": "stream",
          "text": "Unexpected exception: invalid literal for int() with base 10: 'First line in file!\\n'\nFile is closed? False\n",
          "name": "stdout"
        }
      ]
    },
    {
      "metadata": {},
      "cell_type": "markdown",
      "source": "### Using a `with` statement\nYou need not explicitly close the file; the `with` statement will do it for you."
    },
    {
      "metadata": {
        "trusted": true
      },
      "cell_type": "code",
      "source": "file_path = 'parent_dir/text_file.txt'\n\nwith open(file_path, 'r') as file:\n    try:\n        x = int(file.readline()) #raise an exception if lines are not numeric\n    except Exception as exception_object:\n        print(\"Unexpected exception\", exception_object)\n\nprint(\"File is closed?\", file.closed)",
      "execution_count": 104,
      "outputs": [
        {
          "output_type": "error",
          "ename": "FileNotFoundError",
          "evalue": "[Errno 2] No such file or directory: 'parent_dir/text_file.txt'",
          "traceback": [
            "\u001b[0;31m---------------------------------------------------------------------------\u001b[0m",
            "\u001b[0;31mFileNotFoundError\u001b[0m                         Traceback (most recent call last)",
            "\u001b[0;32m<ipython-input-104-3c10b10c79bf>\u001b[0m in \u001b[0;36m<module>\u001b[0;34m()\u001b[0m\n\u001b[1;32m      1\u001b[0m \u001b[0mfile_path\u001b[0m \u001b[0;34m=\u001b[0m \u001b[0;34m'parent_dir/text_file.txt'\u001b[0m\u001b[0;34m\u001b[0m\u001b[0m\n\u001b[1;32m      2\u001b[0m \u001b[0;34m\u001b[0m\u001b[0m\n\u001b[0;32m----> 3\u001b[0;31m \u001b[0;32mwith\u001b[0m \u001b[0mopen\u001b[0m\u001b[0;34m(\u001b[0m\u001b[0mfile_path\u001b[0m\u001b[0;34m,\u001b[0m \u001b[0;34m'r'\u001b[0m\u001b[0;34m)\u001b[0m \u001b[0;32mas\u001b[0m \u001b[0mfile\u001b[0m\u001b[0;34m:\u001b[0m\u001b[0;34m\u001b[0m\u001b[0m\n\u001b[0m\u001b[1;32m      4\u001b[0m     \u001b[0;32mtry\u001b[0m\u001b[0;34m:\u001b[0m\u001b[0;34m\u001b[0m\u001b[0m\n\u001b[1;32m      5\u001b[0m         \u001b[0mx\u001b[0m \u001b[0;34m=\u001b[0m \u001b[0mint\u001b[0m\u001b[0;34m(\u001b[0m\u001b[0mfile\u001b[0m\u001b[0;34m.\u001b[0m\u001b[0mreadline\u001b[0m\u001b[0;34m(\u001b[0m\u001b[0;34m)\u001b[0m\u001b[0;34m)\u001b[0m \u001b[0;31m#raise an exception if lines are not numeric\u001b[0m\u001b[0;34m\u001b[0m\u001b[0m\n",
            "\u001b[0;31mFileNotFoundError\u001b[0m: [Errno 2] No such file or directory: 'parent_dir/text_file.txt'"
          ]
        }
      ]
    },
    {
      "metadata": {},
      "cell_type": "markdown",
      "source": "---\n<font size=\"6\" color=\"#B24C00\"  face=\"verdana\"> <B>Task 4</B></font>\n\n## `with` Statements"
    },
    {
      "metadata": {
        "trusted": true
      },
      "cell_type": "code",
      "source": "# [ ] Write a program to print the first line of every file inside `files_exercises`\n# Use a `with` statement to open (and close) every file\n# Make sure the to run the environment setup code before running your own program.\n\n\nimport os\n\nif ('files_exercises' not in os.getcwd()):\n    print(\"STOP!!!! Run the environment setup code!\")\n \n\n #TODO: Your code goes here\nprint(os.listdir())\nfor i in os.listdir():\n    if i[0:3] != 'dir':\n        file_path='/home/nbuser/library/parent_dir/files_exercises/'+i\n        with open(file_path, 'r') as file:\n            try:\n                file1=file.readline()\n            except IsADirectoryError:\n                print('Directory not found')\n            print(file1)\n            file.close()\nprint(file.closed)",
      "execution_count": 112,
      "outputs": [
        {
          "output_type": "stream",
          "text": "['45.txt', '25.txt', '46.txt', '74.txt', '38.txt', '14.txt', '15.txt', '13.txt', '73.txt', '43.txt', '5.txt', 'dir_4', '87.txt', '31.txt', '40.txt', '35.txt', '1.txt', 'dir_5', '65.txt', '55.txt', '26.txt', '67.txt', '98.txt', '76.txt', '77.txt', '75.txt', '9.txt', '53.txt', '44.txt', '81.txt', '18.txt', '56.txt', '79.txt', '42.txt', '71.txt', '33.txt', '86.txt', '0.txt', '89.txt', '39.txt', '63.txt', '29.txt', '12.txt', '69.txt', '58.txt', '37.txt', '84.txt', '83.txt', '23.txt', '91.txt', '51.txt', '7.txt', '64.txt', '99.txt', '85.txt', '66.txt', '20.txt', '97.txt', '72.txt', '88.txt', '8.txt', '22.txt', '80.txt', '30.txt', '2.txt', '59.txt', 'dir_1', '93.txt', '36.txt', 'dir_3', '50.txt', '95.txt', '49.txt', '11.txt', '57.txt', '47.txt', '92.txt', '4.txt', '32.txt', '70.txt', '28.txt', '27.txt', '82.txt', '6.txt', '78.txt', '68.txt', '34.txt', '24.txt', '3.txt', '96.txt', '60.txt', '90.txt', '41.txt', '16.txt', '54.txt', '52.txt', 'dir_2', '94.txt', '19.txt', '21.txt', '17.txt', '48.txt', '62.txt', '10.txt', '61.txt']\n1358\n2531\n3762\n3932\n3245\n3691\n5058\n6148\n6279\n1163\n3462\n9846\n2774\n3909\n9528\n7894\n1248\n2853\n6845\n9330\n9524\n8426\n2352\n1193\n9748\n9449\n9873\n2913\n3345\n2344\n7865\n9805\n6153\n1159\n3178\n7823\n5657\n8295\n3944\n9907\n3313\n5154\n3204\n4769\n4736\n2542\n3747\n8967\n5436\n1517\n7415\n5396\n3447\n6028\n2769\n7586\n3353\n1525\n3389\n2317\n6921\n2300\n1087\n3678\n4912\n5653\n9083\n8301\n4626\n9749\n9496\n5948\n7361\n7372\n2287\n9358\n2580\n2177\n1121\n1856\n9923\n9459\n5908\n7888\n2306\n1095\n7957\n1574\n4631\n3570\n1587\n1053\n5433\n5229\n9287\n4499\n6433\n1441\n1591\n4112\nTrue\n",
          "name": "stdout"
        }
      ]
    },
    {
      "metadata": {
        "trusted": true
      },
      "cell_type": "code",
      "source": "",
      "execution_count": null,
      "outputs": []
    }
  ],
  "metadata": {
    "kernelspec": {
      "name": "python3",
      "display_name": "Python 3",
      "language": "python"
    },
    "language_info": {
      "mimetype": "text/x-python",
      "nbconvert_exporter": "python",
      "name": "python",
      "file_extension": ".py",
      "version": "3.5.4",
      "pygments_lexer": "ipython3",
      "codemirror_mode": {
        "version": 3,
        "name": "ipython"
      }
    }
  },
  "nbformat": 4,
  "nbformat_minor": 2
}